{
 "cells": [
  {
   "cell_type": "code",
   "execution_count": 1,
   "id": "8346ed22-b74f-4249-a095-49b1a92a5156",
   "metadata": {},
   "outputs": [],
   "source": [
    "import torch\n",
    "import torch.nn as nn\n",
    "import torch.nn.functional as F\n",
    "import torch.optim as optim\n",
    "from torch_geometric.data import DataLoader\n",
    "from datasets import traffic_dataset\n",
    "from utils import *\n",
    "import argparse\n",
    "import yaml\n",
    "import time\n",
    "from maml import STMAML\n",
    "from tqdm import tqdm"
   ]
  },
  {
   "cell_type": "markdown",
   "id": "c66a18b0-9ef3-47bb-9623-a5b024501189",
   "metadata": {},
   "source": [
    "## Set the predict target dataset"
   ]
  },
  {
   "cell_type": "code",
   "execution_count": null,
   "id": "7003f30b-2927-4132-bb14-451cbc9427ba",
   "metadata": {},
   "outputs": [],
   "source": [
    "predict_target_dataset = 'pems-bay'\n",
    "\n",
    "# the predict_target_dataset can be 1 of the 6 datasets mentioned in our report\n",
    "#'metr-la', 'pems-bay', 'shenzhen', 'chengdu_m', 'pems04', 'pems08'\n",
    "\n",
    "# if you want to change the reference source datasets, you have to change the 'data_keys' in config.yaml 2nd row"
   ]
  },
  {
   "cell_type": "code",
   "execution_count": null,
   "id": "444ee803-af9a-44d6-a14b-65f383d43e4d",
   "metadata": {},
   "outputs": [],
   "source": [
    "parser = argparse.ArgumentParser(description='MAML-based')\n",
    "parser.add_argument('--config_filename', default='config.yaml', type=str,\n",
    "                        help='Configuration filename for restoring the model.')\n",
    "parser.add_argument('--test_dataset', default='metr-la', type=str)\n",
    "parser.add_argument('--source_epochs', default=200, type=int)\n",
    "parser.add_argument('--source_lr', default=1e-2, type=float)\n",
    "parser.add_argument('--target_epochs', default=120, type=int)\n",
    "parser.add_argument('--target_lr', default=1e-2, type=float)\n",
    "parser.add_argument('--batch_size', default=8, type=int)\n",
    "parser.add_argument('--meta_dim', default=16, type=int)\n",
    "parser.add_argument('--target_days', default=3, type=int)\n",
    "parser.add_argument('--model', default='GRU', type=str)\n",
    "parser.add_argument('--loss_lambda', default=1.5, type=float)\n",
    "parser.add_argument('--memo', default='revise', type=str)\n",
    "\n",
    "# 手動設定 args\n",
    "args = parser.parse_args(args=['--test_dataset', predict_target_dataset,  '--model', 'GRU'])\n",
    "\n",
    "print(time.strftime('%Y-%m-%d %H:%M:%S'), \"meta_dim = \", args.meta_dim,\"target_days = \", args.target_days)\n"
   ]
  },
  {
   "cell_type": "markdown",
   "id": "98674a9e-bf40-4e84-a63e-0edeb2404701",
   "metadata": {},
   "source": [
    "## Main Process"
   ]
  },
  {
   "cell_type": "code",
   "execution_count": 2,
   "id": "29b0d199-4456-4918-8be6-c4b0f40b900a",
   "metadata": {},
   "outputs": [
    {
     "name": "stdout",
     "output_type": "stream",
     "text": [
      "2023-12-04 17:21:09 meta_dim =  16 target_days =  3\n",
      "INFO: GPU\n",
      "[INFO] source dataset: ['metr-la']\n",
      "[INFO] Dataset init finished!\n",
      "loss_lambda =  1.5\n",
      "tp is True.\n",
      "sp is True.\n",
      "MAML Model: GRU\n",
      "model params:  17598\n"
     ]
    },
    {
     "name": "stderr",
     "output_type": "stream",
     "text": [
      "  0%|          | 1/200 [00:01<03:27,  1.04s/it]"
     ]
    },
    {
     "name": "stdout",
     "output_type": "stream",
     "text": [
      "[Source Train] epoch #1/200: loss is 4357.0009765625, training time is 1.0448005199432373\n"
     ]
    },
    {
     "name": "stderr",
     "output_type": "stream",
     "text": [
      " 10%|█         | 21/200 [00:10<01:27,  2.04it/s]"
     ]
    },
    {
     "name": "stdout",
     "output_type": "stream",
     "text": [
      "[Source Train] epoch #21/200: loss is 17.17517852783203, training time is 0.48419809341430664\n"
     ]
    },
    {
     "name": "stderr",
     "output_type": "stream",
     "text": [
      " 20%|██        | 41/200 [00:20<01:15,  2.09it/s]"
     ]
    },
    {
     "name": "stdout",
     "output_type": "stream",
     "text": [
      "[Source Train] epoch #41/200: loss is 25.741512298583984, training time is 0.48328304290771484\n"
     ]
    },
    {
     "name": "stderr",
     "output_type": "stream",
     "text": [
      " 30%|███       | 61/200 [00:29<01:04,  2.14it/s]"
     ]
    },
    {
     "name": "stdout",
     "output_type": "stream",
     "text": [
      "[Source Train] epoch #61/200: loss is 6.981149673461914, training time is 0.4395253658294678\n"
     ]
    },
    {
     "name": "stderr",
     "output_type": "stream",
     "text": [
      " 40%|████      | 81/200 [00:38<00:53,  2.22it/s]"
     ]
    },
    {
     "name": "stdout",
     "output_type": "stream",
     "text": [
      "[Source Train] epoch #81/200: loss is 41.792945861816406, training time is 0.4430272579193115\n"
     ]
    },
    {
     "name": "stderr",
     "output_type": "stream",
     "text": [
      " 50%|█████     | 101/200 [00:47<00:44,  2.22it/s]"
     ]
    },
    {
     "name": "stdout",
     "output_type": "stream",
     "text": [
      "[Source Train] epoch #101/200: loss is 9.547203063964844, training time is 0.4718587398529053\n"
     ]
    },
    {
     "name": "stderr",
     "output_type": "stream",
     "text": [
      " 60%|██████    | 121/200 [00:56<00:37,  2.13it/s]"
     ]
    },
    {
     "name": "stdout",
     "output_type": "stream",
     "text": [
      "[Source Train] epoch #121/200: loss is 6.5052947998046875, training time is 0.49070167541503906\n"
     ]
    },
    {
     "name": "stderr",
     "output_type": "stream",
     "text": [
      " 70%|███████   | 141/200 [01:05<00:26,  2.23it/s]"
     ]
    },
    {
     "name": "stdout",
     "output_type": "stream",
     "text": [
      "[Source Train] epoch #141/200: loss is 32.62919998168945, training time is 0.44253039360046387\n"
     ]
    },
    {
     "name": "stderr",
     "output_type": "stream",
     "text": [
      " 80%|████████  | 161/200 [01:15<00:17,  2.22it/s]"
     ]
    },
    {
     "name": "stdout",
     "output_type": "stream",
     "text": [
      "[Source Train] epoch #161/200: loss is 7.119198799133301, training time is 0.4568650722503662\n"
     ]
    },
    {
     "name": "stderr",
     "output_type": "stream",
     "text": [
      " 90%|█████████ | 181/200 [01:24<00:08,  2.16it/s]"
     ]
    },
    {
     "name": "stdout",
     "output_type": "stream",
     "text": [
      "[Source Train] epoch #181/200: loss is 51.25939178466797, training time is 0.454970121383667\n"
     ]
    },
    {
     "name": "stderr",
     "output_type": "stream",
     "text": [
      "100%|██████████| 200/200 [01:33<00:00,  2.15it/s]\n"
     ]
    },
    {
     "name": "stdout",
     "output_type": "stream",
     "text": [
      "Source dataset meta-train finish.\n",
      "[INFO] target dataset: ['pems-bay']\n",
      "[INFO] Dataset init finished!\n",
      "[INFO] test dataset: ['pems-bay']\n"
     ]
    },
    {
     "name": "stderr",
     "output_type": "stream",
     "text": [
      "C:\\Users\\makoto\\anaconda3\\envs\\ST-GFSL\\lib\\site-packages\\torch_geometric\\deprecation.py:22: UserWarning: 'data.DataLoader' is deprecated, use 'loader.DataLoader' instead\n",
      "  warnings.warn(out)\n"
     ]
    },
    {
     "name": "stdout",
     "output_type": "stream",
     "text": [
      "[INFO] Dataset init finished!\n"
     ]
    },
    {
     "name": "stderr",
     "output_type": "stream",
     "text": [
      "  1%|          | 1/120 [00:12<25:40, 12.95s/it]"
     ]
    },
    {
     "name": "stdout",
     "output_type": "stream",
     "text": [
      "[Target Fine-tune] epoch #1/120: loss is 8.487161307475146, fine-tuning time is 12.945801496505737\n"
     ]
    },
    {
     "name": "stderr",
     "output_type": "stream",
     "text": [
      "  9%|▉         | 11/120 [02:12<21:43, 11.96s/it]"
     ]
    },
    {
     "name": "stdout",
     "output_type": "stream",
     "text": [
      "[Target Fine-tune] epoch #11/120: loss is 6.7193237441427565, fine-tuning time is 11.895766735076904\n"
     ]
    },
    {
     "name": "stderr",
     "output_type": "stream",
     "text": [
      " 18%|█▊        | 21/120 [04:11<19:33, 11.85s/it]"
     ]
    },
    {
     "name": "stdout",
     "output_type": "stream",
     "text": [
      "[Target Fine-tune] epoch #21/120: loss is 6.677469818732318, fine-tuning time is 11.648711204528809\n"
     ]
    },
    {
     "name": "stderr",
     "output_type": "stream",
     "text": [
      " 26%|██▌       | 31/120 [06:09<17:32, 11.82s/it]"
     ]
    },
    {
     "name": "stdout",
     "output_type": "stream",
     "text": [
      "[Target Fine-tune] epoch #31/120: loss is 6.8497141890666065, fine-tuning time is 11.679858684539795\n"
     ]
    },
    {
     "name": "stderr",
     "output_type": "stream",
     "text": [
      " 34%|███▍      | 41/120 [08:11<16:00, 12.16s/it]"
     ]
    },
    {
     "name": "stdout",
     "output_type": "stream",
     "text": [
      "[Target Fine-tune] epoch #41/120: loss is 6.6977438751389, fine-tuning time is 12.056032180786133\n"
     ]
    },
    {
     "name": "stderr",
     "output_type": "stream",
     "text": [
      " 42%|████▎     | 51/120 [10:12<13:57, 12.13s/it]"
     ]
    },
    {
     "name": "stdout",
     "output_type": "stream",
     "text": [
      "[Target Fine-tune] epoch #51/120: loss is 6.897759929825278, fine-tuning time is 12.258360147476196\n"
     ]
    },
    {
     "name": "stderr",
     "output_type": "stream",
     "text": [
      " 51%|█████     | 61/120 [12:16<12:01, 12.22s/it]"
     ]
    },
    {
     "name": "stdout",
     "output_type": "stream",
     "text": [
      "[Target Fine-tune] epoch #61/120: loss is 6.715371214642245, fine-tuning time is 12.063392877578735\n"
     ]
    },
    {
     "name": "stderr",
     "output_type": "stream",
     "text": [
      " 59%|█████▉    | 71/120 [14:17<09:57, 12.18s/it]"
     ]
    },
    {
     "name": "stdout",
     "output_type": "stream",
     "text": [
      "[Target Fine-tune] epoch #71/120: loss is 6.570450925125796, fine-tuning time is 12.217651605606079\n"
     ]
    },
    {
     "name": "stderr",
     "output_type": "stream",
     "text": [
      " 68%|██████▊   | 81/120 [16:18<07:52, 12.12s/it]"
     ]
    },
    {
     "name": "stdout",
     "output_type": "stream",
     "text": [
      "[Target Fine-tune] epoch #81/120: loss is 9.778453651245902, fine-tuning time is 12.179498672485352\n"
     ]
    },
    {
     "name": "stderr",
     "output_type": "stream",
     "text": [
      " 76%|███████▌  | 91/120 [18:19<05:47, 11.99s/it]"
     ]
    },
    {
     "name": "stdout",
     "output_type": "stream",
     "text": [
      "[Target Fine-tune] epoch #91/120: loss is 6.561017151089276, fine-tuning time is 11.620487928390503\n"
     ]
    },
    {
     "name": "stderr",
     "output_type": "stream",
     "text": [
      " 84%|████████▍ | 101/120 [20:18<03:45, 11.88s/it]"
     ]
    },
    {
     "name": "stdout",
     "output_type": "stream",
     "text": [
      "[Target Fine-tune] epoch #101/120: loss is 8.590373269950643, fine-tuning time is 11.76212215423584\n"
     ]
    },
    {
     "name": "stderr",
     "output_type": "stream",
     "text": [
      " 92%|█████████▎| 111/120 [22:17<01:46, 11.81s/it]"
     ]
    },
    {
     "name": "stdout",
     "output_type": "stream",
     "text": [
      "[Target Fine-tune] epoch #111/120: loss is 6.409476311417187, fine-tuning time is 11.709235429763794\n"
     ]
    },
    {
     "name": "stderr",
     "output_type": "stream",
     "text": [
      "100%|██████████| 120/120 [24:03<00:00, 12.03s/it]\n"
     ]
    }
   ],
   "source": [
    "if torch.cuda.is_available():\n",
    "    args.device = torch.device('cuda')\n",
    "    print(\"INFO: GPU\")\n",
    "else:\n",
    "    args.device = torch.device('cpu')\n",
    "    print(\"INFO: CPU\")\n",
    "\n",
    "with open(args.config_filename) as f:\n",
    "    config = yaml.load(f,Loader=yaml.FullLoader)\n",
    "\n",
    "torch.manual_seed(7)\n",
    "\n",
    "data_args, task_args, model_args = config['data'], config['task'], config['model']\n",
    "    \n",
    "model_args['meta_dim'] = args.meta_dim\n",
    "model_args['loss_lambda'] = args.loss_lambda\n",
    "    \n",
    "source_dataset = traffic_dataset(data_args, task_args, \"source\", test_data=args.test_dataset)\n",
    "\n",
    "model = STMAML(data_args, task_args, model_args, model=args.model).to(device=args.device)\n",
    "    \n",
    "optimizer = torch.optim.Adam(model.parameters(), lr=args.source_lr)\n",
    "loss_criterion = nn.MSELoss()\n",
    "\n",
    "source_training_losses, target_training_losses = [], []\n",
    "best_result = ''\n",
    "min_MAE = 10000000\n",
    "\n",
    "for epoch in tqdm(range(args.source_epochs)):\n",
    "    # Meta-Train\n",
    "    start_time = time.time()\n",
    "    spt_task_data, spt_task_A, qry_task_data, qry_task_A = source_dataset.get_maml_task_batch(task_args['task_num'])\n",
    "    loss = model.meta_train_revise(spt_task_data, spt_task_A, qry_task_data, qry_task_A)\n",
    "\n",
    "    # loss = model.meta_train(spt_task_data, spt_task_A, qry_task_data, qry_task_A)\n",
    "    end_time = time.time()\n",
    "    if epoch % 20 == 0:\n",
    "        print(\"[Source Train] epoch #{}/{}: loss is {}, training time is {}\".format(epoch+1, args.source_epochs, loss, end_time-start_time))\n",
    "\n",
    "print(\"Source dataset meta-train finish.\")\n",
    "\n",
    "target_dataset = traffic_dataset(data_args, task_args, \"target\", test_data=args.test_dataset, target_days=args.target_days)\n",
    "target_dataloader = DataLoader(target_dataset, batch_size=task_args['batch_size'], shuffle=True, num_workers=8, pin_memory=True)\n",
    "test_dataset = traffic_dataset(data_args, task_args, \"test\", test_data=args.test_dataset)\n",
    "test_dataloader = DataLoader(test_dataset, batch_size=task_args['test_batch_size'], shuffle=True, num_workers=8, pin_memory=True)\n",
    "\n",
    "model.finetuning(target_dataloader, args.target_epochs)"
   ]
  },
  {
   "cell_type": "markdown",
   "id": "dc25dd47-fd1a-4a4a-bbb5-9e22e003c073",
   "metadata": {},
   "source": [
    "## Forward Predict"
   ]
  },
  {
   "cell_type": "code",
   "execution_count": 3,
   "id": "6df52674-fa53-4637-a1a5-533bb1a36a3c",
   "metadata": {
    "scrolled": true
   },
   "outputs": [
    {
     "name": "stdout",
     "output_type": "stream",
     "text": [
      "step 0 outputs shape = torch.Size([128, 325, 6])\n",
      "step 1 outputs shape = torch.Size([256, 325, 6])\n",
      "step 2 outputs shape = torch.Size([384, 325, 6])\n",
      "step 3 outputs shape = torch.Size([512, 325, 6])\n",
      "step 4 outputs shape = torch.Size([640, 325, 6])\n",
      "step 5 outputs shape = torch.Size([768, 325, 6])\n",
      "step 6 outputs shape = torch.Size([896, 325, 6])\n",
      "step 7 outputs shape = torch.Size([1024, 325, 6])\n",
      "step 8 outputs shape = torch.Size([1152, 325, 6])\n",
      "step 9 outputs shape = torch.Size([1280, 325, 6])\n",
      "step 10 outputs shape = torch.Size([1408, 325, 6])\n",
      "step 11 outputs shape = torch.Size([1536, 325, 6])\n",
      "step 12 outputs shape = torch.Size([1664, 325, 6])\n",
      "step 13 outputs shape = torch.Size([1792, 325, 6])\n",
      "step 14 outputs shape = torch.Size([1920, 325, 6])\n",
      "step 15 outputs shape = torch.Size([2048, 325, 6])\n",
      "step 16 outputs shape = torch.Size([2176, 325, 6])\n",
      "step 17 outputs shape = torch.Size([2304, 325, 6])\n",
      "step 18 outputs shape = torch.Size([2432, 325, 6])\n",
      "step 19 outputs shape = torch.Size([2560, 325, 6])\n",
      "step 20 outputs shape = torch.Size([2688, 325, 6])\n",
      "step 21 outputs shape = torch.Size([2816, 325, 6])\n",
      "step 22 outputs shape = torch.Size([2944, 325, 6])\n",
      "step 23 outputs shape = torch.Size([3072, 325, 6])\n",
      "step 24 outputs shape = torch.Size([3200, 325, 6])\n",
      "step 25 outputs shape = torch.Size([3328, 325, 6])\n",
      "step 26 outputs shape = torch.Size([3456, 325, 6])\n",
      "step 27 outputs shape = torch.Size([3584, 325, 6])\n",
      "step 28 outputs shape = torch.Size([3712, 325, 6])\n",
      "step 29 outputs shape = torch.Size([3840, 325, 6])\n",
      "step 30 outputs shape = torch.Size([3968, 325, 6])\n",
      "step 31 outputs shape = torch.Size([4096, 325, 6])\n",
      "step 32 outputs shape = torch.Size([4224, 325, 6])\n",
      "step 33 outputs shape = torch.Size([4352, 325, 6])\n",
      "step 34 outputs shape = torch.Size([4480, 325, 6])\n",
      "step 35 outputs shape = torch.Size([4608, 325, 6])\n",
      "step 36 outputs shape = torch.Size([4736, 325, 6])\n",
      "step 37 outputs shape = torch.Size([4864, 325, 6])\n",
      "step 38 outputs shape = torch.Size([4992, 325, 6])\n",
      "step 39 outputs shape = torch.Size([5120, 325, 6])\n",
      "step 40 outputs shape = torch.Size([5248, 325, 6])\n",
      "step 41 outputs shape = torch.Size([5376, 325, 6])\n",
      "step 42 outputs shape = torch.Size([5504, 325, 6])\n",
      "step 43 outputs shape = torch.Size([5632, 325, 6])\n",
      "step 44 outputs shape = torch.Size([5760, 325, 6])\n",
      "step 45 outputs shape = torch.Size([5888, 325, 6])\n",
      "step 46 outputs shape = torch.Size([6016, 325, 6])\n",
      "step 47 outputs shape = torch.Size([6144, 325, 6])\n",
      "step 48 outputs shape = torch.Size([6272, 325, 6])\n",
      "step 49 outputs shape = torch.Size([6400, 325, 6])\n",
      "step 50 outputs shape = torch.Size([6528, 325, 6])\n",
      "step 51 outputs shape = torch.Size([6656, 325, 6])\n",
      "step 52 outputs shape = torch.Size([6784, 325, 6])\n",
      "step 53 outputs shape = torch.Size([6912, 325, 6])\n",
      "step 54 outputs shape = torch.Size([7040, 325, 6])\n",
      "step 55 outputs shape = torch.Size([7168, 325, 6])\n",
      "step 56 outputs shape = torch.Size([7296, 325, 6])\n",
      "step 57 outputs shape = torch.Size([7424, 325, 6])\n",
      "step 58 outputs shape = torch.Size([7552, 325, 6])\n",
      "step 59 outputs shape = torch.Size([7680, 325, 6])\n",
      "step 60 outputs shape = torch.Size([7808, 325, 6])\n",
      "step 61 outputs shape = torch.Size([7936, 325, 6])\n",
      "step 62 outputs shape = torch.Size([8064, 325, 6])\n",
      "step 63 outputs shape = torch.Size([8192, 325, 6])\n",
      "step 64 outputs shape = torch.Size([8320, 325, 6])\n",
      "step 65 outputs shape = torch.Size([8448, 325, 6])\n",
      "step 66 outputs shape = torch.Size([8576, 325, 6])\n",
      "step 67 outputs shape = torch.Size([8704, 325, 6])\n",
      "step 68 outputs shape = torch.Size([8832, 325, 6])\n",
      "step 69 outputs shape = torch.Size([8960, 325, 6])\n",
      "step 70 outputs shape = torch.Size([9088, 325, 6])\n",
      "step 71 outputs shape = torch.Size([9216, 325, 6])\n",
      "step 72 outputs shape = torch.Size([9344, 325, 6])\n",
      "step 73 outputs shape = torch.Size([9472, 325, 6])\n",
      "step 74 outputs shape = torch.Size([9600, 325, 6])\n",
      "step 75 outputs shape = torch.Size([9728, 325, 6])\n",
      "step 76 outputs shape = torch.Size([9856, 325, 6])\n",
      "step 77 outputs shape = torch.Size([9984, 325, 6])\n",
      "step 78 outputs shape = torch.Size([10112, 325, 6])\n",
      "step 79 outputs shape = torch.Size([10240, 325, 6])\n",
      "step 80 outputs shape = torch.Size([10368, 325, 6])\n",
      "step 81 outputs shape = torch.Size([10407, 325, 6])\n",
      "[Target Test] testing time is 7.8067333698272705\n"
     ]
    }
   ],
   "source": [
    "from utils import *\n",
    "\n",
    "outputs, y_label = model.evaluate(test_dataloader)"
   ]
  },
  {
   "cell_type": "markdown",
   "id": "cb2cf76c-aa7d-4358-8974-048843c1fbde",
   "metadata": {},
   "source": [
    "## Evaluate Predict Result"
   ]
  },
  {
   "cell_type": "code",
   "execution_count": 4,
   "id": "85b62308-926a-4394-b9dc-4c53d6dd8510",
   "metadata": {},
   "outputs": [
    {
     "name": "stdout",
     "output_type": "stream",
     "text": [
      "Help\n",
      "metric | pred shape: (10407, 6, 325)  y shape: (10407, 6, 325)\n",
      "========== Evaluate results ==========\n",
      " MAE: 1.311/ 1.535/ 1.776/ 1.906/ 2.025/ 2.156\n",
      "MAPE: 2.565/ 3.089/ 3.640/ 4.017/ 4.373/ 4.741\n",
      "RMSE: 2.023/ 2.732/ 3.385/ 3.905/ 4.349/ 4.741\n",
      "---------------------------------------\n",
      "revise\n"
     ]
    }
   ],
   "source": [
    "from utils import *\n",
    "result = metric_func(pred=outputs, y=y_label, times=6)\n",
    "\n",
    "result_print(result, info_name='Evaluate')\n",
    "\n",
    "print(args.memo)"
   ]
  },
  {
   "cell_type": "markdown",
   "id": "40f5bdd6-498f-4aae-9639-c1d4ba7a8e89",
   "metadata": {},
   "source": [
    "## Previous Experoment Result"
   ]
  },
  {
   "cell_type": "raw",
   "id": "09afd898-ebd5-429b-bb77-5fa6038a8740",
   "metadata": {},
   "source": [
    "reference source datasets : 'metr-la', 'pems-bay', 'shenzhen', 'chengdu_m', 'pems04', 'pems08'\n",
    "predict target dataset : 'pems04' \n",
    "\n",
    "\n",
    "========== Evaluate results ==========\n",
    " MAE: 18.976/ 20.508/ 21.965/ 23.208/ 24.408/ 25.486\n",
    "RMSE: 29.797/ 32.015/ 34.061/ 35.838/ 37.537/ 39.089\n",
    "---------------------------------------"
   ]
  },
  {
   "cell_type": "raw",
   "id": "efa3ef3f-4be2-4d0d-bc60-a1b2fe77c63b",
   "metadata": {},
   "source": [
    "reference source datasets : 'metr-la', 'pems-bay', 'shenzhen', 'chengdu_m'\n",
    "predict target dataset : 'pems04'\n",
    "\n",
    "\n",
    "========== Evaluate results ==========\n",
    " MAE: 37.563/ 39.103/ 40.663/ 42.247/ 43.922/ 45.501\n",
    "RMSE: 52.821/ 54.871/ 56.979/ 59.134/ 61.427/ 63.558\n",
    "---------------------------------------"
   ]
  },
  {
   "cell_type": "raw",
   "id": "c99468a7-b7cb-4fd6-bfa2-0a7b2aa9c8ec",
   "metadata": {},
   "source": [
    "reference source datasets : 'metr-la', 'pems-bay', 'shenzhen'\n",
    "predict target dataset : 'pems04'\n",
    "\n",
    "\n",
    "========== Evaluate results ==========\n",
    " MAE: 18.845/ 20.224/ 21.593/ 22.845/ 24.048/ 25.327\n",
    "RMSE: 29.759/ 31.757/ 33.657/ 35.401/ 37.091/ 38.853\n",
    "---------------------------------------"
   ]
  },
  {
   "cell_type": "raw",
   "id": "702be723-f6d3-45c4-9163-62dfc4149879",
   "metadata": {},
   "source": [
    "reference source datasets : 'metr-la', 'pems-bay', 'shenzhen', 'pems08'\n",
    "predict target dataset : 'pems04'\n",
    "\n",
    "\n",
    "========== Evaluate results ==========\n",
    " MAE: 33.600/ 35.130/ 36.702/ 38.236/ 39.758/ 41.338\n",
    "RMSE: 46.654/ 48.751/ 50.879/ 52.993/ 55.116/ 57.335"
   ]
  },
  {
   "cell_type": "raw",
   "id": "3b3e6f69-21ae-4b9c-ba7a-f26682518431",
   "metadata": {},
   "source": [
    "reference source datasets : 'pems08'\n",
    "predict target dataset : 'pems04'\n",
    "\n",
    "\n",
    "========== Evaluate results ==========\n",
    " MAE: 19.902/ 21.181/ 22.212/ 23.378/ 24.539/ 25.701\n",
    "RMSE: 30.527/ 32.414/ 33.957/ 35.578/ 37.210/ 38.853\n",
    "---------------------------------------\n",
    "\n",
    "reference source datasets : 'None'\n",
    "predict target dataset : 'pems04'\n",
    "\n",
    "\n",
    "========== Evaluate results ==========\n",
    " MAE: 50.585/ 51.722/ 52.938/ 54.143/ 55.401/ 56.738\n",
    "RMSE: 72.636/ 74.157/ 75.814/ 77.398/ 79.068/ 80.934\n",
    "---------------------------------------"
   ]
  },
  {
   "cell_type": "raw",
   "id": "1ec2a48c-05a8-4068-820d-d6bd04c1cf22",
   "metadata": {},
   "source": [
    "reference source datasets : 'shenzhen', 'chengdu_m'\n",
    "predict target dataset : 'pems-bay'\n",
    "\n",
    "\n",
    "========== Evaluate results ==========\n",
    " MAE: 1.503/ 1.745/ 2.037/ 2.385/ 2.622/ 2.776\n",
    "RMSE: 2.437/ 3.028/ 3.629/ 4.192/ 4.631/ 4.980\n",
    "---------------------------------------\n",
    "\n",
    "reference source datasets : 'metr-la', 'shenzhen', 'chengdu_m'\n",
    "predict target dataset : 'pems-bay'\n",
    "\n",
    "\n",
    "========== Evaluate results ==========\n",
    " MAE: 1.070/ 1.353/ 1.636/ 1.885/ 2.134/ 2.361\n",
    "RMSE: 1.880/ 2.608/ 3.264/ 3.811/ 4.276/ 4.675\n",
    "---------------------------------------\n",
    "\n",
    "\n",
    "reference source datasets : 'None'\n",
    "predict target dataset : 'pems-bay'\n",
    "\n",
    "\n",
    "========== Evaluate results ==========\n",
    " MAE: 1.207/ 1.479/ 1.681/ 1.864/ 2.041/ 2.203\n",
    "RMSE: 2.180/ 2.816/ 3.385/ 3.878/ 4.312/ 4.689\n",
    "---------------------------------------\n",
    "\n",
    "\n",
    "reference source datasets : 'metr-la'\n",
    "predict target dataset : 'pems-bay'\n",
    "\n",
    "\n",
    "========== Evaluate results ==========\n",
    " MAE: 1.311/ 1.535/ 1.776/ 1.906/ 2.025/ 2.156\n",
    "RMSE: 2.023/ 2.732/ 3.385/ 3.905/ 4.349/ 4.741\n",
    "---------------------------------------"
   ]
  },
  {
   "cell_type": "raw",
   "id": "5c6d8ff9-4f94-46f0-b11b-7a11f05c6cb8",
   "metadata": {},
   "source": [
    "reference source datasets : 'pems08 half'\n",
    "predict target dataset : 'pems04'\n",
    "\n",
    "\n",
    " MAE: 44.845/ 46.100/ 47.436/ 48.741/ 50.111/ 51.532\n",
    "RMSE: 62.891/ 64.464/ 66.224/ 67.839/ 69.651/ 71.565\n",
    "---------------------------------------"
   ]
  },
  {
   "cell_type": "code",
   "execution_count": null,
   "id": "0709a9c1-91f5-43ff-bfb8-70e45d6e6ba7",
   "metadata": {},
   "outputs": [],
   "source": []
  }
 ],
 "metadata": {
  "kernelspec": {
   "display_name": "Python 3 (ipykernel)",
   "language": "python",
   "name": "python3"
  },
  "language_info": {
   "codemirror_mode": {
    "name": "ipython",
    "version": 3
   },
   "file_extension": ".py",
   "mimetype": "text/x-python",
   "name": "python",
   "nbconvert_exporter": "python",
   "pygments_lexer": "ipython3",
   "version": "3.10.13"
  }
 },
 "nbformat": 4,
 "nbformat_minor": 5
}
